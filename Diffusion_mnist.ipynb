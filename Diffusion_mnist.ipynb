{
  "cells": [
    {
      "cell_type": "markdown",
      "id": "bdcfdff6",
      "metadata": {
        "id": "bdcfdff6"
      },
      "source": [
        "# Diffusion Models for Generative AI\n",
        "\n",
        "Diffusion models are a class of generative models that create new data by reversing a process that gradually adds noise. They operate in two main phases:\n",
        "\n",
        "- **Forward Process (Diffusion):** Noise is incrementally added to the original data over $T$ steps, transforming it into pure noise.\n",
        "- **Model Training:** The model learns to predict the noise added at each step, enabling it to understand how to reverse the process.\n",
        "- **Backward Process (Denoising):** Starting from random noise, the model iteratively removes noise over $T$ steps, reconstructing a new, realistic sample.\n",
        "\n",
        "This approach allows diffusion models to generate new high-quality images from a image dataset by simulating the process of denoising."
      ]
    },
    {
      "cell_type": "markdown",
      "id": "cc080f89",
      "metadata": {
        "id": "cc080f89"
      },
      "source": [
        "## Imports"
      ]
    },
    {
      "cell_type": "code",
      "execution_count": 1,
      "id": "3b58621e",
      "metadata": {
        "id": "3b58621e"
      },
      "outputs": [],
      "source": [
        "import numpy as np\n",
        "import torch\n",
        "import torch.nn as nn\n",
        "import torchvision\n",
        "from torchvision.datasets import mnist"
      ]
    },
    {
      "cell_type": "code",
      "execution_count": 2,
      "id": "43e3c4e1",
      "metadata": {
        "colab": {
          "base_uri": "https://localhost:8080/"
        },
        "id": "43e3c4e1",
        "outputId": "d68f25cc-66f7-43ed-a065-641bf7f2b9f8"
      },
      "outputs": [
        {
          "output_type": "stream",
          "name": "stderr",
          "text": [
            "100%|██████████| 9.91M/9.91M [00:00<00:00, 17.9MB/s]\n",
            "100%|██████████| 28.9k/28.9k [00:00<00:00, 483kB/s]\n",
            "100%|██████████| 1.65M/1.65M [00:00<00:00, 4.44MB/s]\n",
            "100%|██████████| 4.54k/4.54k [00:00<00:00, 7.55MB/s]\n"
          ]
        }
      ],
      "source": [
        "transform = torchvision.transforms.Compose([\n",
        "    torchvision.transforms.Grayscale(num_output_channels=1),\n",
        "    torchvision.transforms.ToTensor(),\n",
        "    torchvision.transforms.Normalize((0.5,), (0.5,))\n",
        "])\n",
        "\n",
        "mnist_train = mnist.MNIST(root='./data', train=True, download=True, transform=transform)\n",
        "mnist_test = mnist.MNIST(root='./data', train=False, download=True, transform=transform)"
      ]
    },
    {
      "cell_type": "markdown",
      "id": "52ac6abf",
      "metadata": {
        "id": "52ac6abf"
      },
      "source": [
        "### Forward Process - Noising\n",
        "\n",
        "Let $x_0$ be the image at t=0, and $x_t$ be the data at timestep $t$ after adding noise. The forward process is defined as:\n",
        "\n",
        "$$x_t = \\sqrt{\\alpha_t} x_{t-1} + \\sqrt{1 - \\alpha_t} \\epsilon_t,\\quad \\epsilon_t \\sim \\mathcal{N}(0, 1)$$\n",
        "\n",
        "$$q(x_t | x_{t-1}) = \\mathcal{N}(x_t; \\sqrt{1 - \\beta_t} x_{t-1}, \\quad \\beta_t \\mathbf{I}),\\quad t \\sim \\mathcal{N}(0, T)$$\n",
        "\n",
        "\n",
        "\n",
        "where $\\beta_t = 1 - \\alpha_t$ is the variance schedule for timestep $t$.\n",
        "\n",
        "The cumulative process from $x_0$ to $x_t$:\n",
        "\n",
        "$$\n",
        "q(x_t | x_0) = \\mathcal{N}(x_t; \\sqrt{\\bar{\\alpha}_t} x_0, \\quad (1 - \\bar{\\alpha}_t) \\mathbf{I})\n",
        "$$\n",
        "\n",
        "where $\\alpha_t = 1 - \\beta_t$ and $\\bar{\\alpha}_t = \\prod_{s=1}^t \\alpha_s$.\n",
        "\n",
        "#### Algorithm\n",
        "\n",
        "1. **Initialize** $x_0$ as the original data sample.\n",
        "2. **For** $t = 1$ to $T$:\n",
        "    - Sample noise $\\epsilon_t \\sim \\mathcal{N}(0, \\mathbf{I})$\n",
        "    - Compute $x_t = \\sqrt{\\bar{\\alpha}_t} x_0 + \\sqrt{1 - \\bar{\\alpha}_t} \\epsilon_t$\n",
        "3. **Return** $x_T$ as the fully noised data.\n",
        "\n",
        "This process gradually transforms the original data into pure noise over $T$ steps."
      ]
    },
    {
      "cell_type": "code",
      "execution_count": 3,
      "id": "7b20926f",
      "metadata": {
        "id": "7b20926f"
      },
      "outputs": [],
      "source": [
        "T = 30  # total timesteps\n",
        "a = 0.1 # noise proportion per step\n",
        "# kept constant for simplicity\n",
        "device = \"cuda\" if torch.cuda.is_available() else \"cpu\"\n",
        "\n",
        "def Noising(images, T, a):\n",
        "    t = torch.randint(0, T, (images.size(0),), device=images.device).float()\n",
        "    noise = torch.randn_like(images)\n",
        "    a_t = a**t\n",
        "\n",
        "    noisy_images = (a_t.view(-1, 1, 1, 1))**0.5 * images + (1 - a_t).view(-1, 1, 1, 1)**0.5 * noise\n",
        "\n",
        "    return noisy_images, noise , t  # -> this should also be output"
      ]
    },
    {
      "cell_type": "markdown",
      "id": "c41ae8b8",
      "metadata": {
        "id": "c41ae8b8"
      },
      "source": [
        "### Deep Learning Model ###\n",
        "A simple CNN based model to run over-the image reduse the dimensions and atlast give an output $\\epsilon_t$.\\\n",
        "$\\epsilon_t$ is a prediction of the amount of error introduced. And, the model learns to predict $\\epsilon_t$ better and better.\n",
        "\n",
        "## U-NET Model Architecture\n",
        "\n",
        "This model is inspired by the **U-Net architecture**, with additional **time embeddings** to condition the network on the diffusion step `t`.\n",
        "\n",
        "---\n",
        "\n",
        "### Key Components\n",
        "- **DoubleConv**: Two consecutive `Conv2d + ReLU` layers, used as the basic building block.  \n",
        "- **Down (Encoder path)**: `MaxPool2d` for downsampling, followed by `DoubleConv`. Captures hierarchical features.  \n",
        "- **Up (Decoder path)**: `Upsample` to increase spatial resolution, concatenates encoder features via skip connections, then applies `DoubleConv` to preserve fine details.  \n",
        "- **OutConv**: Final `1×1 convolution` to reduce channels to match output image size.  \n",
        "- **Time Embedding (`time_mlp`)**: Small MLP that processes the diffusion step `t` into an embedding, conditioning the model on the current timestep.\n",
        "\n",
        "---\n",
        "\n",
        "### Forward Pass\n",
        "1. Input image `x` goes through the encoder:  \n",
        "   `inc → down1 → down2 → down3 → down4`  \n",
        "2. Decoder reconstructs the image with skip connections:  \n",
        "   `up1(x5, x4) → up2(x, x3) → up3(x, x2) → up4(x, x1)`  \n",
        "3. Final output produced with `OutConv`.  \n",
        "4. Diffusion step `t` is embedded via `time_mlp` and conditions the model during training.\n",
        "\n",
        "---\n",
        "\n",
        "### Model Usage\n",
        "- **Input**: noisy image `x` and diffusion step `t`  \n",
        "- **Output**: predicted denoised image (same shape as `x`)  \n",
        "\n",
        "This design makes the model suitable for **denoising diffusion probabilistic models (DDPMs)** and other generative tasks.\n"
      ]
    },
    {
      "cell_type": "code",
      "execution_count": 1,
      "id": "a7cb3b0b",
      "metadata": {
        "id": "a7cb3b0b"
      },
      "outputs": [],
      "source": [
        "import torch\n",
        "import torch.nn as nn\n",
        "import torch.nn.functional as F\n",
        "\n",
        "class DoubleConv(nn.Module):\n",
        "    def __init__(self, in_channels, out_channels):\n",
        "        super().__init__()\n",
        "        self.double_conv = nn.Sequential(\n",
        "            nn.Conv2d(in_channels, out_channels, kernel_size=3, padding=1),\n",
        "            nn.ReLU(inplace=True),\n",
        "            nn.Conv2d(out_channels, out_channels, kernel_size=3, padding=1),\n",
        "            nn.ReLU(inplace=True)\n",
        "        )\n",
        "\n",
        "    def forward(self, x):\n",
        "        return self.double_conv(x)\n",
        "\n",
        "class Down(nn.Module):\n",
        "    def __init__(self, in_channels, out_channels):\n",
        "        super().__init__()\n",
        "        self.maxpool_conv = nn.Sequential(\n",
        "            nn.MaxPool2d(2),\n",
        "            DoubleConv(in_channels, out_channels)\n",
        "        )\n",
        "\n",
        "    def forward(self, x):\n",
        "        return self.maxpool_conv(x)\n",
        "\n",
        "class Up(nn.Module):\n",
        "    def __init__(self, in_channels, out_channels):\n",
        "        super().__init__()\n",
        "        self.up = nn.Upsample(scale_factor=2, mode='bilinear', align_corners=True)\n",
        "        self.conv = DoubleConv(in_channels, out_channels)\n",
        "\n",
        "    def forward(self, x1, x2):\n",
        "        x1 = self.up(x1)\n",
        "        # input is CHW\n",
        "        diffY = x2.size()[2] - x1.size()[2]\n",
        "        diffX = x2.size()[3] - x1.size()[3]\n",
        "        x1 = F.pad(x1, [diffX // 2, diffX - diffX // 2,\n",
        "                        diffY // 2, diffY - diffY // 2])\n",
        "        x = torch.cat([x2, x1], dim=1)\n",
        "        return self.conv(x)\n",
        "\n",
        "class OutConv(nn.Module):\n",
        "    def __init__(self, in_channels, out_channels):\n",
        "        super(OutConv, self).__init__()\n",
        "        self.conv = nn.Conv2d(in_channels, out_channels, kernel_size=1)\n",
        "\n",
        "    def forward(self, x):\n",
        "        return self.conv(x)\n",
        "\n",
        "\n",
        "class Diffusion(nn.Module):\n",
        "    def __init__(self, img_channels=1, hidden_dim=64):\n",
        "        super().__init__()\n",
        "        self.inc = DoubleConv(img_channels, hidden_dim)\n",
        "        self.down1 = Down(hidden_dim, hidden_dim * 2)\n",
        "        self.down2 = Down(hidden_dim * 2, hidden_dim * 4)\n",
        "        self.down3 = Down(hidden_dim * 4, hidden_dim * 8)\n",
        "        self.down4 = Down(hidden_dim * 8, hidden_dim * 8)\n",
        "        self.up1 = Up(hidden_dim * 16, hidden_dim * 4)\n",
        "        self.up2 = Up(hidden_dim * 8, hidden_dim * 2)\n",
        "        self.up3 = Up(hidden_dim * 4, hidden_dim)\n",
        "        self.up4 = Up(hidden_dim * 2, hidden_dim)\n",
        "        self.outc = OutConv(hidden_dim, img_channels)\n",
        "\n",
        "        self.time_mlp = nn.Sequential(\n",
        "            nn.Linear(1, hidden_dim),\n",
        "            nn.ReLU(),\n",
        "            nn.Linear(hidden_dim, hidden_dim)\n",
        "        )\n",
        "\n",
        "    def forward(self, x, t):\n",
        "        t = t.view(-1, 1).float() / 1000.0  # scale down\n",
        "        t_emb = self.time_mlp(t)[:, :, None, None]\n",
        "\n",
        "        x1 = self.inc(x)\n",
        "        x2 = self.down1(x1)\n",
        "        x3 = self.down2(x2)\n",
        "        x4 = self.down3(x3)\n",
        "        x5 = self.down4(x4)\n",
        "\n",
        "        x = self.up1(x5, x4)\n",
        "        x = self.up2(x, x3)\n",
        "        x = self.up3(x, x2)\n",
        "        x = self.up4(x, x1)\n",
        "        out = self.outc(x)\n",
        "\n",
        "        return out"
      ]
    },
    {
      "cell_type": "markdown",
      "id": "dc83b981",
      "metadata": {
        "id": "dc83b981"
      },
      "source": [
        "### Model Training\n",
        "- Design a loss function to train for $\\epsilon_t$.\n",
        "- For simplicity MSELoss"
      ]
    },
    {
      "cell_type": "code",
      "execution_count": 37,
      "id": "07b692e3",
      "metadata": {
        "colab": {
          "base_uri": "https://localhost:8080/"
        },
        "id": "07b692e3",
        "outputId": "a1747cf1-4f49-4c63-bcf8-c4777faa0480"
      },
      "outputs": [
        {
          "output_type": "stream",
          "name": "stdout",
          "text": [
            "Epoch [1/20], Loss: 0.1221\n",
            "Epoch [2/20], Loss: 0.0762\n",
            "Epoch [3/20], Loss: 0.0712\n",
            "Epoch [4/20], Loss: 0.0693\n",
            "Epoch [5/20], Loss: 0.0678\n",
            "Epoch [6/20], Loss: 0.0677\n",
            "Epoch [7/20], Loss: 0.0648\n",
            "Epoch [8/20], Loss: 0.0641\n",
            "Epoch [9/20], Loss: 0.0645\n",
            "Epoch [10/20], Loss: 0.0632\n",
            "Epoch [11/20], Loss: 0.0627\n",
            "Epoch [12/20], Loss: 0.0635\n",
            "Epoch [13/20], Loss: 0.0616\n",
            "Epoch [14/20], Loss: 0.0604\n",
            "Epoch [15/20], Loss: 0.0620\n",
            "Epoch [16/20], Loss: 0.0616\n",
            "Epoch [17/20], Loss: 0.0613\n",
            "Epoch [18/20], Loss: 0.0608\n",
            "Epoch [19/20], Loss: 0.0623\n",
            "Epoch [20/20], Loss: 0.0606\n"
          ]
        }
      ],
      "source": [
        "import torch\n",
        "import torch.nn as nn\n",
        "import torch.optim as optim\n",
        "from torch.utils.data import DataLoader\n",
        "\n",
        "num_epochs = 20\n",
        "device = torch.device(\"cuda\" if torch.cuda.is_available() else \"cpu\")\n",
        "\n",
        "model = Diffusion().to(device)\n",
        "criterion = nn.MSELoss()\n",
        "optimizer = optim.Adam(model.parameters(), lr=0.001)\n",
        "\n",
        "T = 30\n",
        "a = 0.9 # decay factor\n",
        "\n",
        "# Use DataLoader for efficient batching\n",
        "batch_size = 128\n",
        "train_loader = DataLoader(mnist_train, batch_size=batch_size, shuffle=True)\n",
        "\n",
        "for epoch in range(num_epochs):\n",
        "    model.train()\n",
        "    total_loss = 0\n",
        "\n",
        "    for images, _ in train_loader:\n",
        "        images = images.to(device)\n",
        "\n",
        "        noisy_images, noise, t = Noising(images, T, a)\n",
        "\n",
        "        noise_pred = model(noisy_images, t)\n",
        "\n",
        "        loss = criterion(noise_pred, noise)\n",
        "\n",
        "        optimizer.zero_grad()\n",
        "        loss.backward()\n",
        "        optimizer.step()\n",
        "\n",
        "        total_loss += loss.item() * images.size(0)  # accumulate by batch size\n",
        "\n",
        "    avg_loss = total_loss / len(train_loader.dataset)\n",
        "    print(f\"Epoch [{epoch+1}/{num_epochs}], Loss: {avg_loss:.4f}\")\n"
      ]
    },
    {
      "cell_type": "markdown",
      "id": "deef38ce",
      "metadata": {
        "id": "deef38ce"
      },
      "source": [
        "**Full Update Rule:**\n",
        "\n",
        "The full denoising update at each step is:\n",
        "\n",
        "$$\n",
        "x_{t-1} = \\frac{1}{\\sqrt{\\alpha_t}} \\left( x_t - \\frac{1 - \\alpha_t}{\\sqrt{1 - \\bar{\\alpha}_t}} \\epsilon_\\theta(x_t, t) \\right) + \\sigma_t z\n",
        "$$\n",
        "\n",
        "where:\n",
        "- $\\alpha_t$: noise schedule at step $t$\n",
        "- $\\bar{\\alpha}_t$: cumulative product of $\\alpha_t$ up to $t$\n",
        "- $\\epsilon_\\theta(x_t, t)$: predicted noise by the model\n",
        "- $\\sigma_t$: standard deviation for added noise\n",
        "- $z \\sim \\mathcal{N}(0, I)$: random noise\n",
        "\n",
        "This update produces higher fidelity samples by accounting for the variance schedule.\n"
      ]
    },
    {
      "cell_type": "code",
      "execution_count": 46,
      "id": "3bc269e1",
      "metadata": {
        "colab": {
          "base_uri": "https://localhost:8080/",
          "height": 430
        },
        "id": "3bc269e1",
        "outputId": "9fff1cba-6519-45ed-bec4-30e841f538a7"
      },
      "outputs": [
        {
          "output_type": "display_data",
          "data": {
            "text/plain": [
              "<Figure size 640x480 with 1 Axes>"
            ],
            "image/png": "[encoded data removed]"
          },
          "metadata": {}
        }
      ],
      "source": [
        "import torch\n",
        "\n",
        "@torch.no_grad()\n",
        "def Denoising(model, img_size=(1, 28, 28), T=30, device=\"cpu\"):\n",
        "    model.eval()\n",
        "    betas = torch.linspace(1e-4, 0.02, T, device=device)\n",
        "    alphas = 1.0 - betas\n",
        "    alpha_bar = torch.cumprod(alphas, dim=0)\n",
        "\n",
        "    # pure noise\n",
        "    x_t = torch.randn(1, *img_size, device=device)\n",
        "\n",
        "    for t in reversed(range(T)):\n",
        "        t_tensor = torch.tensor([t], device=device, dtype=torch.long)\n",
        "\n",
        "        # predict noise\n",
        "        eps_theta = model(x_t, t_tensor)\n",
        "\n",
        "        # coefficients\n",
        "        alpha_t = alphas[t]\n",
        "        alpha_bar_t = alpha_bar[t]\n",
        "        beta_t = betas[t]\n",
        "\n",
        "        # mean term μ_θ(x_t, t)\n",
        "        mean = (1.0 / torch.sqrt(alpha_t)) * (\n",
        "            x_t - (beta_t / torch.sqrt(1 - alpha_bar_t)) * eps_theta\n",
        "        )\n",
        "\n",
        "        if t > 0:\n",
        "            # variance term σ_t z\n",
        "            alpha_bar_prev = alpha_bar[t-1] if t > 0 else torch.tensor(1.0, device=device)\n",
        "            posterior_var = beta_t * (1 - alpha_bar_prev) / (1 - alpha_bar_t)\n",
        "            sigma_t = torch.sqrt(posterior_var)\n",
        "            noise = torch.randn_like(x_t)\n",
        "            x_t = mean + sigma_t * noise\n",
        "        else:\n",
        "            # at t=0, just take the mean\n",
        "            x_t = mean\n",
        "\n",
        "    return x_t\n",
        "\n",
        "\n",
        "if __name__ == \"__main__\":\n",
        "    gen_image = Denoising(model, img_size=(1, 28, 28), T=1000, device= device)\n",
        "    import matplotlib.pyplot as plt\n",
        "    plt.imshow(gen_image.squeeze().cpu(), cmap=\"gray\")\n",
        "    plt.show()"
      ]
    }
  ],
  "metadata": {
    "kernelspec": {
      "display_name": "Python 3",
      "name": "python3"
    },
    "language_info": {
      "codemirror_mode": {
        "name": "ipython",
        "version": 3
      },
      "file_extension": ".py",
      "mimetype": "text/x-python",
      "name": "python",
      "nbconvert_exporter": "python",
      "pygments_lexer": "ipython3",
      "version": "3.13.2"
    },
    "colab": {
      "provenance": [],
      "gpuType": "T4"
    },
    "accelerator": "GPU"
  },
  "nbformat": 4,
  "nbformat_minor": 5
}
